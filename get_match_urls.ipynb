{
 "cells": [
  {
   "cell_type": "code",
   "execution_count": 1,
   "id": "a4487ae5-f460-42b1-9268-f220ec5bdd54",
   "metadata": {},
   "outputs": [],
   "source": [
    "import requests\n",
    "import pandas as pd\n",
    "import json\n",
    "from bs4 import BeautifulSoup\n",
    "import numpy as np\n",
    "from libs.match_utils import get_match_dataframe\n",
    "HEADERS = {\n",
    "    'User-Agent':\n",
    "        'Mozilla/5.0 (Macintosh; Intel Mac OS X 10_15_7) AppleWebKit/537.36 (KHTML, like Gecko) Chrome/109.0.0.0 Safari/537.36'\n",
    "}"
   ]
  },
  {
   "cell_type": "code",
   "execution_count": 2,
   "id": "a97a4132-22c7-45fa-a8ba-8dd275e93fb1",
   "metadata": {},
   "outputs": [],
   "source": [
    "def get_urls_in_page(pagination_url):\n",
    "    res = requests.get(pagination_url, headers=HEADERS, timeout=3)\n",
    "    soup = BeautifulSoup(res.content)\n",
    "    table = soup.find('table', attrs={'class': 'table table-striped recent-esports-matches series-table'})\n",
    "    table_body = table.find('tbody')\n",
    "    rows = table_body.find_all('tr')\n",
    "    \n",
    "    match_urls = []\n",
    "\n",
    "    for row in rows:\n",
    "        try:\n",
    "            cols = row.find_all('td')\n",
    "            link = cols[0].find('a')\n",
    "            link = link['href']\n",
    "            if 'series' in link:\n",
    "                match_urls.append(f\"https://www.dotabuff.com{link}\")\n",
    "        except:\n",
    "            pass\n",
    "        \n",
    "    return match_urls"
   ]
  },
  {
   "cell_type": "code",
   "execution_count": null,
   "id": "aa284095-bbb3-4aba-a063-4dcd61bced20",
   "metadata": {},
   "outputs": [],
   "source": [
    "all_urls = []\n",
    "\n",
    "root_url = 'https://www.dotabuff.com/esports/leagues/14268-the-international-2022/series?original_slug=14268-the-international-2022'\n",
    "\n",
    "for page in range(1, 10):\n",
    "    \n",
    "    url = root_url + f'&page={page}'\n",
    "    match_urls = get_urls_in_page(url)\n",
    "    \n",
    "    all_urls += match_urls"
   ]
  },
  {
   "cell_type": "code",
   "execution_count": null,
   "id": "f0087a5b-a382-4912-8e60-bb96ecec742e",
   "metadata": {},
   "outputs": [],
   "source": [
    "df = pd.DataFrame(all_urls, columns=['match_url'])"
   ]
  },
  {
   "cell_type": "code",
   "execution_count": null,
   "id": "0eee7c19-ac93-4dd5-8cf3-3039c8a21199",
   "metadata": {},
   "outputs": [],
   "source": [
    "df.to_csv(\"./data/match_urls.csv\", index=False)"
   ]
  },
  {
   "cell_type": "code",
   "execution_count": null,
   "id": "369c53d3-26e3-484e-8e8b-c1dca7c72693",
   "metadata": {},
   "outputs": [],
   "source": []
  }
 ],
 "metadata": {
  "kernelspec": {
   "display_name": "Python 3",
   "language": "python",
   "name": "python3"
  },
  "language_info": {
   "codemirror_mode": {
    "name": "ipython",
    "version": 3
   },
   "file_extension": ".py",
   "mimetype": "text/x-python",
   "name": "python",
   "nbconvert_exporter": "python",
   "pygments_lexer": "ipython3",
   "version": "3.9.13 (main, May 24 2022, 21:13:51) \n[Clang 13.1.6 (clang-1316.0.21.2)]"
  },
  "vscode": {
   "interpreter": {
    "hash": "b0fa6594d8f4cbf19f97940f81e996739fb7646882a419484c72d19e05852a7e"
   }
  }
 },
 "nbformat": 4,
 "nbformat_minor": 5
}
