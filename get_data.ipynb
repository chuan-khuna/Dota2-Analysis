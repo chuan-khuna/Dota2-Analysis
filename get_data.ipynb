{
 "cells": [
  {
   "cell_type": "code",
   "execution_count": 1,
   "id": "7e4992d6-03b0-4012-8108-aac3eab42df1",
   "metadata": {},
   "outputs": [],
   "source": [
    "import requests\n",
    "import pandas as pd\n",
    "import json\n",
    "from bs4 import BeautifulSoup\n",
    "import numpy as np\n",
    "from libs.match_utils import get_match_dataframe\n",
    "\n",
    "import warnings\n",
    "warnings.filterwarnings('ignore')\n",
    "import time\n",
    "\n",
    "from tqdm.notebook import tqdm\n",
    "\n",
    "HEADERS = {\n",
    "    'User-Agent':\n",
    "        'Mozilla/5.0 (Macintosh; Intel Mac OS X 10_15_7) AppleWebKit/537.36 (KHTML, like Gecko) Chrome/109.0.0.0 Safari/537.36'\n",
    "}"
   ]
  },
  {
   "cell_type": "code",
   "execution_count": 2,
   "id": "f3934669-f21a-4185-b1a1-8c9e9077c000",
   "metadata": {},
   "outputs": [],
   "source": [
    "urls = pd.read_csv(\"./data/match_urls.csv\")"
   ]
  },
  {
   "cell_type": "code",
   "execution_count": null,
   "id": "c903ac61-9a94-4d0f-89cd-162eab3137f5",
   "metadata": {},
   "outputs": [
    {
     "data": {
      "application/vnd.jupyter.widget-view+json": {
       "model_id": "bdfc0d9d44014f468d5edebcc6642d7b",
       "version_major": 2,
       "version_minor": 0
      },
      "text/plain": [
       "  0%|          | 0/116 [00:00<?, ?it/s]"
      ]
     },
     "metadata": {},
     "output_type": "display_data"
    },
    {
     "name": "stdout",
     "output_type": "stream",
     "text": [
      "429\n",
      "'NoneType' object has no attribute 'find'\n",
      "429\n",
      "'NoneType' object has no attribute 'find'\n",
      "429\n",
      "'NoneType' object has no attribute 'find'\n",
      "429\n",
      "'NoneType' object has no attribute 'find'\n",
      "429\n",
      "'NoneType' object has no attribute 'find'\n",
      "429\n",
      "'NoneType' object has no attribute 'find'\n",
      "429\n",
      "'NoneType' object has no attribute 'find'\n",
      "429\n",
      "'NoneType' object has no attribute 'find'\n",
      "429\n",
      "'NoneType' object has no attribute 'find'\n",
      "429\n",
      "'NoneType' object has no attribute 'find'\n",
      "429\n",
      "'NoneType' object has no attribute 'find'\n",
      "429\n",
      "'NoneType' object has no attribute 'find'\n",
      "429\n",
      "'NoneType' object has no attribute 'find'\n",
      "429\n",
      "'NoneType' object has no attribute 'find'\n"
     ]
    }
   ],
   "source": [
    "dfs = []\n",
    "\n",
    "for url in tqdm(urls['match_url']):\n",
    "    time.sleep(3)\n",
    "    try:\n",
    "        df = get_match_dataframe(url)\n",
    "        dfs.append(df)\n",
    "    except Exception as e:\n",
    "        print(e)\n",
    "        pass"
   ]
  },
  {
   "cell_type": "code",
   "execution_count": null,
   "id": "88323d41-49b5-453b-bffb-dd0ce5fd34b0",
   "metadata": {},
   "outputs": [],
   "source": [
    "df = pd.concat(dfs).reset_index(drop=True)\n",
    "df"
   ]
  },
  {
   "cell_type": "code",
   "execution_count": null,
   "id": "01422ced-9340-428b-9a7e-707078d87361",
   "metadata": {},
   "outputs": [],
   "source": [
    "get_match_dataframe(url)"
   ]
  },
  {
   "cell_type": "code",
   "execution_count": null,
   "id": "29bcbc2a-ac2d-40d6-9f22-9d490da01738",
   "metadata": {},
   "outputs": [],
   "source": []
  }
 ],
 "metadata": {
  "kernelspec": {
   "display_name": "Python 3 (ipykernel)",
   "language": "python",
   "name": "python3"
  },
  "language_info": {
   "codemirror_mode": {
    "name": "ipython",
    "version": 3
   },
   "file_extension": ".py",
   "mimetype": "text/x-python",
   "name": "python",
   "nbconvert_exporter": "python",
   "pygments_lexer": "ipython3",
   "version": "3.10.6"
  }
 },
 "nbformat": 4,
 "nbformat_minor": 5
}
